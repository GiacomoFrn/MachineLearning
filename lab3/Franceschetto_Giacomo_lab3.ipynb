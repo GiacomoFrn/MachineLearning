{
 "cells": [
  {
   "cell_type": "markdown",
   "metadata": {},
   "source": [
    "# Characters Classification with Neural Networks\n",
    "\n",
    "In this notebook we are going to use the Neural Networks for image classification. We are going to use the same dataset of the lab on SVM: Kuzushiji-MNIST or K-MNIST for short (https://github.com/rois-codh/kmnist) a dataset of traditional japanese handwritten kana.\n",
    "\n",
    "The dataset labels are the following:\n",
    "\n",
    "| Label | Hiragana Character | Romanji (Pronunciation) |\n",
    "| :-: | :-: | :-: |\n",
    "|   0   | お | o |\n",
    "| 1 | き | ki |\n",
    "| 2 | す | su |\n",
    "| 3 | つ | tsu |\n",
    "| 4 | な | na |\n",
    "| 5 | は | ha |\n",
    "| 6 | ま | ma |\n",
    "| 7 | や | ya |\n",
    "| 8 | れ | re |\n",
    "| 9 | を | wo |"
   ]
  },
  {
   "cell_type": "code",
   "execution_count": 1,
   "metadata": {},
   "outputs": [
    {
     "name": "stdout",
     "output_type": "stream",
     "text": [
      "scikit-learn version:  0.24.2\n"
     ]
    }
   ],
   "source": [
    "#load the required packages and check Scikit-learn version\n",
    "\n",
    "%matplotlib inline  \n",
    "import pandas as pd\n",
    "import numpy as np\n",
    "import scipy as sp\n",
    "import matplotlib.pyplot as plt\n",
    "\n",
    "import sklearn\n",
    "print ('scikit-learn version: ', sklearn.__version__)\n",
    "from sklearn.neural_network import MLPClassifier\n",
    "from sklearn.model_selection import GridSearchCV\n",
    "from sklearn.svm import SVC"
   ]
  },
  {
   "cell_type": "code",
   "execution_count": 2,
   "metadata": {},
   "outputs": [],
   "source": [
    "# helper function to load KMNIST dataset from disk\n",
    "def load_mnist(path, kind='train'):\n",
    "    import os\n",
    "    import gzip\n",
    "    import numpy as np\n",
    "    labels_path = os.path.join(path, 'K%s-labels-idx1-ubyte.gz' % kind)\n",
    "    images_path = os.path.join(path, 'K%s-images-idx3-ubyte.gz' % kind)\n",
    "    with gzip.open(labels_path, 'rb') as lbpath:\n",
    "        labels = np.frombuffer(lbpath.read(), dtype=np.uint8,offset=8)\n",
    "    with gzip.open(images_path, 'rb') as imgpath:\n",
    "        images = np.frombuffer(imgpath.read(), dtype=np.uint8,offset=16).reshape(len(labels), 784)\n",
    "    return images, labels"
   ]
  },
  {
   "cell_type": "markdown",
   "metadata": {},
   "source": [
    "# TODO \n",
    "Set as seed for the random generator your Student ID (you can use your \"numero di matricola\"). Try to change the seed to see the impact of the randomization."
   ]
  },
  {
   "cell_type": "code",
   "execution_count": 9,
   "metadata": {},
   "outputs": [],
   "source": [
    "ID = 2053348+10\n",
    "np.random.seed(ID)"
   ]
  },
  {
   "cell_type": "code",
   "execution_count": 10,
   "metadata": {},
   "outputs": [
    {
     "name": "stdout",
     "output_type": "stream",
     "text": [
      "Number of samples in the K-MNIST dataset: 60000\n"
     ]
    }
   ],
   "source": [
    "#load the MNIST dataset and let's normalize the features so that each value is in [0,1]\n",
    "X, y = load_mnist(\"data\")\n",
    "print(\"Number of samples in the K-MNIST dataset:\", X.shape[0])\n",
    "# rescale the data\n",
    "X = X / 255.0"
   ]
  },
  {
   "cell_type": "markdown",
   "metadata": {},
   "source": [
    "Now split into training and test. We start with a small training set of 600 samples to reduce computation time while 4000 samples will be used for testing. Make sure that each label is present at least 10 times in train and test set frequencies."
   ]
  },
  {
   "cell_type": "code",
   "execution_count": 11,
   "metadata": {},
   "outputs": [
    {
     "name": "stdout",
     "output_type": "stream",
     "text": [
      "Labels in training dataset:  [0 1 2 3 4 5 6 7 8 9]\n",
      "Frequencies in training dataset:  [63 61 67 60 52 61 66 60 61 49]\n",
      "Labels in test set:  [0 1 2 3 4 5 6 7 8 9]\n",
      "Frequencies in test set:  [443 412 374 369 389 425 382 396 388 422]\n"
     ]
    }
   ],
   "source": [
    "#random permute the data and split into training and test taking the first 600\n",
    "#data samples as training and 4000 as test set\n",
    "permutation = np.random.permutation(X.shape[0])\n",
    "\n",
    "X = X[permutation]\n",
    "y = y[permutation]\n",
    "\n",
    "m_training = 600\n",
    "m_test = 4000\n",
    "\n",
    "X_train, X_test = X[:m_training], X[m_training:m_training+m_test]\n",
    "y_train, y_test = y[:m_training], y[m_training:m_training+m_test]\n",
    "\n",
    "labels, freqs = np.unique(y_train, return_counts=True)\n",
    "print(\"Labels in training dataset: \", labels)\n",
    "print(\"Frequencies in training dataset: \", freqs)\n",
    "\n",
    "labelsT, freqsT = np.unique(y_test, return_counts=True)\n",
    "print(\"Labels in test set: \", labelsT)\n",
    "print(\"Frequencies in test set: \", freqsT)\n"
   ]
  },
  {
   "cell_type": "code",
   "execution_count": 12,
   "metadata": {},
   "outputs": [],
   "source": [
    "#function for plotting a image and printing the corresponding label\n",
    "def plot_input(X_matrix, labels, index):\n",
    "    print(\"INPUT:\")\n",
    "    plt.imshow(\n",
    "        X_matrix[index].reshape(28,28),\n",
    "        cmap          = plt.cm.gray_r,\n",
    "        interpolation = \"nearest\"\n",
    "    )\n",
    "    plt.show()\n",
    "    print(\"LABEL: %i\"%labels[index])\n",
    "    return"
   ]
  },
  {
   "cell_type": "code",
   "execution_count": 13,
   "metadata": {},
   "outputs": [
    {
     "name": "stdout",
     "output_type": "stream",
     "text": [
      "INPUT:\n"
     ]
    },
    {
     "data": {
      "image/png": "[encoded data removed]",
      "text/plain": [
       "<Figure size 432x288 with 1 Axes>"
      ]
     },
     "metadata": {
      "needs_background": "light"
     },
     "output_type": "display_data"
    },
    {
     "name": "stdout",
     "output_type": "stream",
     "text": [
      "LABEL: 5\n",
      "INPUT:\n"
     ]
    },
    {
     "data": {
      "image/png": "[encoded data removed]",
      "text/plain": [
       "<Figure size 432x288 with 1 Axes>"
      ]
     },
     "metadata": {
      "needs_background": "light"
     },
     "output_type": "display_data"
    },
    {
     "name": "stdout",
     "output_type": "stream",
     "text": [
      "LABEL: 8\n",
      "INPUT:\n"
     ]
    },
    {
     "data": {
      "image/png": "[encoded data removed]",
      "text/plain": [
       "<Figure size 432x288 with 1 Axes>"
      ]
     },
     "metadata": {
      "needs_background": "light"
     },
     "output_type": "display_data"
    },
    {
     "name": "stdout",
     "output_type": "stream",
     "text": [
      "LABEL: 8\n"
     ]
    }
   ],
   "source": [
    "#let's try the plotting function\n",
    "plot_input(X_train,y_train,10)\n",
    "plot_input(X_test,y_test,100)\n",
    "plot_input(X_test,y_test,1000)"
   ]
  },
  {
   "cell_type": "markdown",
   "metadata": {},
   "source": [
    "### TO DO 1\n",
    "\n",
    "Now use a feed-forward Neural Network for prediction. Use the multi-layer perceptron classifier, with the following parameters: max_iter=100, alpha=1e-4, solver='sgd', tol=1e-4, learning_rate_init=.1, random_state=ID (this last parameter ensures the run is the same even if you run it more than once). The alpha parameter is the regularization term.\n",
    "\n",
    "Then, using the default activation function, pick four or five architectures to consider, with different numbers of hidden layers and different sizes. It is not necessary to create huge neural networks, you can limit to 3 layers and, for each layer, its maximum size can be of 50. Evaluate the architectures you chose using GridSearchCV with cv=5.\n",
    "\n",
    "You can reduce the number of iterations if the running time is too long on your computer.\n"
   ]
  },
  {
   "cell_type": "code",
   "execution_count": 15,
   "metadata": {},
   "outputs": [
    {
     "name": "stderr",
     "output_type": "stream",
     "text": [
      "/home/gfrances/miniconda3/lib/python3.9/site-packages/sklearn/neural_network/_multilayer_perceptron.py:614: ConvergenceWarning: Stochastic Optimizer: Maximum iterations (100) reached and the optimization hasn't converged yet.\n",
      "  warnings.warn(\n",
      "/home/gfrances/miniconda3/lib/python3.9/site-packages/sklearn/neural_network/_multilayer_perceptron.py:614: ConvergenceWarning: Stochastic Optimizer: Maximum iterations (100) reached and the optimization hasn't converged yet.\n",
      "  warnings.warn(\n",
      "/home/gfrances/miniconda3/lib/python3.9/site-packages/sklearn/neural_network/_multilayer_perceptron.py:614: ConvergenceWarning: Stochastic Optimizer: Maximum iterations (100) reached and the optimization hasn't converged yet.\n",
      "  warnings.warn(\n",
      "/home/gfrances/miniconda3/lib/python3.9/site-packages/sklearn/neural_network/_multilayer_perceptron.py:614: ConvergenceWarning: Stochastic Optimizer: Maximum iterations (100) reached and the optimization hasn't converged yet.\n",
      "  warnings.warn(\n"
     ]
    },
    {
     "name": "stdout",
     "output_type": "stream",
     "text": [
      "RESULTS FOR NN\n",
      "\n",
      "Best parameters set found:\n",
      "{'hidden_layer_sizes': (50,)}\n",
      "Score with best parameters:\n",
      "0.745\n",
      "All scores on the grid:\n"
     ]
    },
    {
     "data": {
      "text/html": [
       "<style type=\"text/css\">\n",
       "</style>\n",
       "<table id=\"T_f12c0_\">\n",
       "  <thead>\n",
       "    <tr>\n",
       "      <th class=\"col_heading level0 col0\" >hidden_layer_size</th>\n",
       "      <th class=\"col_heading level0 col1\" >mean_test_score</th>\n",
       "    </tr>\n",
       "  </thead>\n",
       "  <tbody>\n",
       "    <tr>\n",
       "      <td id=\"T_f12c0_row0_col0\" class=\"data row0 col0\" >(10,)</td>\n",
       "      <td id=\"T_f12c0_row0_col1\" class=\"data row0 col1\" >0.651667</td>\n",
       "    </tr>\n",
       "    <tr>\n",
       "      <td id=\"T_f12c0_row1_col0\" class=\"data row1 col0\" >(25,)</td>\n",
       "      <td id=\"T_f12c0_row1_col1\" class=\"data row1 col1\" >0.720000</td>\n",
       "    </tr>\n",
       "    <tr>\n",
       "      <td id=\"T_f12c0_row2_col0\" class=\"data row2 col0\" >(50,)</td>\n",
       "      <td id=\"T_f12c0_row2_col1\" class=\"data row2 col1\" >0.745000</td>\n",
       "    </tr>\n",
       "    <tr>\n",
       "      <td id=\"T_f12c0_row3_col0\" class=\"data row3 col0\" >(35,)</td>\n",
       "      <td id=\"T_f12c0_row3_col1\" class=\"data row3 col1\" >0.741667</td>\n",
       "    </tr>\n",
       "    <tr>\n",
       "      <td id=\"T_f12c0_row4_col0\" class=\"data row4 col0\" >(20, 35, 50)</td>\n",
       "      <td id=\"T_f12c0_row4_col1\" class=\"data row4 col1\" >0.721667</td>\n",
       "    </tr>\n",
       "    <tr>\n",
       "      <td id=\"T_f12c0_row5_col0\" class=\"data row5 col0\" >(40, 20, 30)</td>\n",
       "      <td id=\"T_f12c0_row5_col1\" class=\"data row5 col1\" >0.736667</td>\n",
       "    </tr>\n",
       "  </tbody>\n",
       "</table>\n"
      ],
      "text/plain": [
       "<pandas.io.formats.style.Styler at 0x7f89a96b8190>"
      ]
     },
     "execution_count": 15,
     "metadata": {},
     "output_type": "execute_result"
    }
   ],
   "source": [
    "# these are sample values but feel free to change them as you like, try to experiment with different sizes!!\n",
    "parameters = {'hidden_layer_sizes': [(10,), (25,), (50,), (35,), (20,35,50), (40,20,30) ]}\n",
    "\n",
    "mlp = MLPClassifier(max_iter=100, alpha=1e-4, solver='sgd',\n",
    "                    tol=1e-4, random_state=ID,\n",
    "                    learning_rate_init=.1)\n",
    "\n",
    "grid_search_mlp = GridSearchCV(mlp, parameters, cv=5)\n",
    "grid_search_mlp.fit(X_train, y_train)\n",
    "\n",
    "print ('RESULTS FOR NN\\n')\n",
    "\n",
    "print(\"Best parameters set found:\")\n",
    "print(grid_search_mlp.best_params_)\n",
    "\n",
    "print(\"Score with best parameters:\")\n",
    "print(grid_search_mlp.best_score_)\n",
    "\n",
    "print(\"All scores on the grid:\")\n",
    "df = pd.DataFrame()\n",
    "df[\"hidden_layer_size\"] = parameters['hidden_layer_sizes']\n",
    "df['mean_test_score'] = grid_search_mlp.cv_results_['mean_test_score']\n",
    "df.style.hide_index()"
   ]
  },
  {
   "cell_type": "markdown",
   "metadata": {},
   "source": [
    "### TO DO 2\n",
    "\n",
    "Now try also different batch sizes, while keeping the best NN architecture you have found above. Remember that the batch size was previously set to the default value, i.e., min(200, n_samples). \n",
    "Recall that a batch size of 1 corresponds to baseline SGD, while using all the 480 training samples (there are 600 samples but in cross validation with 5 folders we use 1/5 of them for validation at each round) corresponds to standard GD and using a different mini-batch size lies in the middle between the two extreme cases."
   ]
  },
  {
   "cell_type": "code",
   "execution_count": 16,
   "metadata": {},
   "outputs": [
    {
     "name": "stdout",
     "output_type": "stream",
     "text": [
      "Best parameters set found:\n",
      "{'batch_size': 32}\n",
      "Score with best parameters:\n",
      "0.7516666666666666\n",
      "All scores on the grid:\n"
     ]
    },
    {
     "data": {
      "text/html": [
       "<style type=\"text/css\">\n",
       "</style>\n",
       "<table id=\"T_cdd17_\">\n",
       "  <thead>\n",
       "    <tr>\n",
       "      <th class=\"col_heading level0 col0\" >batch_size</th>\n",
       "      <th class=\"col_heading level0 col1\" >mean_test_score</th>\n",
       "    </tr>\n",
       "  </thead>\n",
       "  <tbody>\n",
       "    <tr>\n",
       "      <td id=\"T_cdd17_row0_col0\" class=\"data row0 col0\" >1</td>\n",
       "      <td id=\"T_cdd17_row0_col1\" class=\"data row0 col1\" >0.105000</td>\n",
       "    </tr>\n",
       "    <tr>\n",
       "      <td id=\"T_cdd17_row1_col0\" class=\"data row1 col0\" >32</td>\n",
       "      <td id=\"T_cdd17_row1_col1\" class=\"data row1 col1\" >0.751667</td>\n",
       "    </tr>\n",
       "    <tr>\n",
       "      <td id=\"T_cdd17_row2_col0\" class=\"data row2 col0\" >64</td>\n",
       "      <td id=\"T_cdd17_row2_col1\" class=\"data row2 col1\" >0.723333</td>\n",
       "    </tr>\n",
       "    <tr>\n",
       "      <td id=\"T_cdd17_row3_col0\" class=\"data row3 col0\" >128</td>\n",
       "      <td id=\"T_cdd17_row3_col1\" class=\"data row3 col1\" >0.721667</td>\n",
       "    </tr>\n",
       "    <tr>\n",
       "      <td id=\"T_cdd17_row4_col0\" class=\"data row4 col0\" >256</td>\n",
       "      <td id=\"T_cdd17_row4_col1\" class=\"data row4 col1\" >0.726667</td>\n",
       "    </tr>\n",
       "    <tr>\n",
       "      <td id=\"T_cdd17_row5_col0\" class=\"data row5 col0\" >480</td>\n",
       "      <td id=\"T_cdd17_row5_col1\" class=\"data row5 col1\" >0.725000</td>\n",
       "    </tr>\n",
       "  </tbody>\n",
       "</table>\n"
      ],
      "text/plain": [
       "<pandas.io.formats.style.Styler at 0x7f89a96b8160>"
      ]
     },
     "execution_count": 16,
     "metadata": {},
     "output_type": "execute_result"
    }
   ],
   "source": [
    "# these are sample values corresponding to baseline SGD, a reasonable mini-batch size and standard GD\n",
    "# again feel free to change them as you like, try to experiment with different batch sizes!!\n",
    "parameters = {'batch_size': [1, 32, 64, 128, 256, 480]}\n",
    "\n",
    "# need to specify that you would like to use the standard k-fold split otherwise sklearn create splits of different sizes\n",
    "kf = sklearn.model_selection.KFold(n_splits=5)\n",
    "\n",
    "mlp = MLPClassifier(hidden_layer_sizes=grid_search_mlp.best_params_['hidden_layer_sizes'], max_iter=1000, alpha=1e-4, solver='sgd',\n",
    "                    tol=1e-4, random_state=ID,\n",
    "                    learning_rate_init=.1)\n",
    "\n",
    "# recall to use cv=kf to use the k-fold subdivision seen in the lectures\n",
    "\n",
    "grid_search_mlp_ = GridSearchCV(mlp, parameters, cv=kf)\n",
    "grid_search_mlp_.fit(X_train, y_train)\n",
    "\n",
    "\n",
    "print(\"Best parameters set found:\")\n",
    "print(grid_search_mlp_.best_params_)\n",
    "\n",
    "print(\"Score with best parameters:\")\n",
    "print(grid_search_mlp_.best_score_)\n",
    "\n",
    "print(\"All scores on the grid:\")\n",
    "df = pd.DataFrame()\n",
    "df[\"batch_size\"] = parameters['batch_size']\n",
    "df['mean_test_score'] = grid_search_mlp_.cv_results_['mean_test_score']\n",
    "df.style.hide_index()"
   ]
  },
  {
   "cell_type": "markdown",
   "metadata": {},
   "source": [
    "### QUESTION 1\n",
    "\n",
    "What do you observe for different architectures and batch sizes? How do the number of layers and their sizes affect the performances? What do you observe for different batch sizes, in particular what happens to the training convergence for different batch sizes (notice that the algorithm could not converge for some batch sizes)?"
   ]
  },
  {
   "cell_type": "markdown",
   "metadata": {},
   "source": [
    "## [ANSWER TO QUESTION 1]\n",
    "We observe that for _batch size_ =1 we have a negligible score, meaning that the NN is not effective at all. With 1 as batch size we are performing a pure SGD and probably we are moving toward a local minima. Increasing the batch size we obtain similar scores, all scores for _batch sizes_ $\\in [32,480]$ give scores around 70%, reaching the maximum for _batch size_ = 32. We selected the batch sizes as power of two, hence, this hyperparameter is often tuned to an aspect of the computational architecture on which the implementation is being executed. In general a good default batch size is 32 <cite>[[1]]</cite> that indeed, is the value that we found. With all selected _batch sizes_ the NN converges but for 480. In this case we are performing a standard GD, that generally takes more iteration to reach the convergence. We tried to increase the number of iteration and, for example 1000 and it reaches the convergence with a score around 70%.\n",
    "\n",
    "With respect to the number of layers and their sizes we can claim that 1 layer NN with high number of neurons seems to be the optimal solution, adding more layers we obtained low scores as for 1 layer architectures with few neurons.\n",
    "\n",
    "\n",
    "[1]: https://arxiv.org/pdf/1206.5533.pdf "
   ]
  },
  {
   "cell_type": "markdown",
   "metadata": {},
   "source": [
    "### TODO 3:\n",
    "\n",
    "Plot the train and test accuracies as a function of the number of learnable parameters in your neural network. Print also the computation time for the various configurations you try (the code for getting the computation time is already provided). You can use 100 iterations (if you get a warning on convergence not reached it is not an issue for this lab)"
   ]
  },
  {
   "cell_type": "code",
   "execution_count": 18,
   "metadata": {},
   "outputs": [
    {
     "name": "stdout",
     "output_type": "stream",
     "text": [
      "Training MLP of size (10,) ...\n"
     ]
    },
    {
     "name": "stderr",
     "output_type": "stream",
     "text": [
      "/home/gfrances/miniconda3/lib/python3.9/site-packages/sklearn/neural_network/_multilayer_perceptron.py:614: ConvergenceWarning: Stochastic Optimizer: Maximum iterations (100) reached and the optimization hasn't converged yet.\n",
      "  warnings.warn(\n"
     ]
    },
    {
     "name": "stdout",
     "output_type": "stream",
     "text": [
      "Done, training time: 0.27 sec\n",
      "\n",
      "Training MLP of size (20, 35, 50) ...\n",
      "Done, training time: 0.22 sec\n",
      "\n",
      "Training MLP of size (25,) ...\n",
      "Done, training time: 0.26 sec\n",
      "\n",
      "Training MLP of size (35,) ...\n",
      "Done, training time: 0.29 sec\n",
      "\n",
      "Training MLP of size (40, 20, 30) ...\n",
      "Done, training time: 0.21 sec\n",
      "\n",
      "Training MLP of size (50,) ...\n",
      "Done, training time: 0.35 sec\n",
      "\n"
     ]
    },
    {
     "data": {
      "image/png": "[encoded data removed]",
      "text/plain": [
       "<Figure size 1080x360 with 2 Axes>"
      ]
     },
     "metadata": {
      "needs_background": "light"
     },
     "output_type": "display_data"
    }
   ],
   "source": [
    "import time\n",
    "from functools import reduce\n",
    "\n",
    "# Function to compute the number of learnable parameters of a mlp given the size of its hidden layers\n",
    "def param_count(hl_size):\n",
    "    tot = 0\n",
    "    input_size, output_size = X_train.shape[1], len(labels)\n",
    "    tot += (input_size+1)*hl_size[0]\n",
    "    for i in range(1,len(hl_size)):\n",
    "        tot += (hl_size[i-1]+1)*hl_size[i]\n",
    "    tot += (hl_size[-1]+1)*output_size\n",
    "    return tot\n",
    "\n",
    "hl_sizes = [(10,), (25,), (50,), (35,), (20,35,50), (40,20,30) ]\n",
    "hl_labels = [param_count(t) for t in hl_sizes]\n",
    "idx = np.argsort(hl_labels)\n",
    "hl_sizes = np.array(hl_sizes, dtype=object)[idx]\n",
    "hl_labels = np.array(hl_labels)[idx]\n",
    "\n",
    "ti = time.time()\n",
    "train_acc_list, test_acc_list = [], []\n",
    "for hl_size in hl_sizes:\n",
    "    print('Training MLP of size {} ...'.format(hl_size))\n",
    "    mlp = MLPClassifier(hidden_layer_sizes=hl_size, max_iter=100, alpha=1e-4, solver='sgd',\n",
    "                    tol=1e-4, random_state=ID,\n",
    "                    learning_rate_init=.1)\n",
    "    \n",
    "    mlp.fit(X_train, y_train)\n",
    "    \n",
    "    train_acc_list.append(mlp.score(X_train, y_train))\n",
    "    test_acc_list.append(mlp.score(X_test, y_test))\n",
    "    print('Done, training time: {:.2f} sec\\n'.format(time.time()-ti))\n",
    "    ti = time.time()\n",
    "\n",
    "fig, ax = plt.subplots(1,2, figsize=(15,5))\n",
    "\n",
    "\n",
    "ax[0].plot(train_acc_list)\n",
    "ax[0].set_xlabel('Number of learnable params')\n",
    "ax[0].set_title('Train accuracy')\n",
    "ax[0].set_xticks(np.arange(0,len(hl_labels)))\n",
    "ax[0].set_xticklabels(hl_labels)\n",
    "ax[0].grid(True)\n",
    "\n",
    "ax[1].plot(test_acc_list)\n",
    "ax[1].set_xlabel('Number of learnable params')\n",
    "ax[1].set_title('Test accuracy')\n",
    "ax[1].set_xticks(np.arange(0,len(hl_labels)))\n",
    "ax[1].set_xticklabels(hl_labels)\n",
    "ax[1].grid(True)\n"
   ]
  },
  {
   "cell_type": "markdown",
   "metadata": {},
   "source": [
    "## Question 2:\n",
    "\n",
    "Comment about the training and test accuracies referring to the discussion on underfitting and overfitting we did in the course"
   ]
  },
  {
   "cell_type": "markdown",
   "metadata": {},
   "source": [
    "## [ANSWER TO QUESTION 2]\n",
    "- __Train accuracy__ : we have a flat distribution at 1, meaning that :(i) our trained NN are perfect, (ii) the size of our training set is to small to notice differences in the different architectures already in the training set. We can say that (ii) prevales w.r.t. (i), we tried increasing the size of the training set and we obtain different distributions.\n",
    "- __Test accuracy__ : for simple 1-layer NN with few neurons we are underfitting, (ex (10,), (25,)) the structure is too simple to deal with our dataset. Lower scores come also with more layer NN (ex, (20, 35, 50), (40, 20, 30)), in this case we are overfitting, probably these architectures have more layers and weights than needed. As stated before for 1-layer high number of neurons we obtain the best results, meaning that we are aiming to NN with similiar structures."
   ]
  },
  {
   "cell_type": "markdown",
   "metadata": {},
   "source": [
    "### TO DO 4\n",
    "\n",
    "Now try also to use different learning rates, while keeping the best NN architecture and batch size you have found above. Plot the learning curves (i.e., the variation of the loss over the steps, you can get it from the loss_curve_ object of sklearn) for the different values of the learning rate. Try to run each training for 100 iterations. "
   ]
  },
  {
   "cell_type": "code",
   "execution_count": 26,
   "metadata": {},
   "outputs": [
    {
     "name": "stderr",
     "output_type": "stream",
     "text": [
      "/home/gfrances/miniconda3/lib/python3.9/site-packages/sklearn/neural_network/_multilayer_perceptron.py:614: ConvergenceWarning: Stochastic Optimizer: Maximum iterations (100) reached and the optimization hasn't converged yet.\n",
      "  warnings.warn(\n",
      "/home/gfrances/miniconda3/lib/python3.9/site-packages/sklearn/neural_network/_multilayer_perceptron.py:614: ConvergenceWarning: Stochastic Optimizer: Maximum iterations (100) reached and the optimization hasn't converged yet.\n",
      "  warnings.warn(\n",
      "/home/gfrances/miniconda3/lib/python3.9/site-packages/sklearn/neural_network/_multilayer_perceptron.py:614: ConvergenceWarning: Stochastic Optimizer: Maximum iterations (100) reached and the optimization hasn't converged yet.\n",
      "  warnings.warn(\n"
     ]
    },
    {
     "data": {
      "image/png": "[encoded data removed]",
      "text/plain": [
       "<Figure size 432x288 with 1 Axes>"
      ]
     },
     "metadata": {
      "needs_background": "light"
     },
     "output_type": "display_data"
    },
    {
     "name": "stdout",
     "output_type": "stream",
     "text": [
      "lr score\n",
      "0.0002 0.7933333333333333\n",
      "0.002 1.0\n",
      "0.02 1.0\n",
      "0.2 0.97\n",
      "RESULTS FOR NN\n",
      "\n",
      "Best parameters set found:\n",
      "0.02\n",
      "Score with best parameters:\n",
      "1.0\n"
     ]
    }
   ],
   "source": [
    "import matplotlib.pyplot as plt\n",
    "import operator\n",
    "\n",
    "lr_list = [0.0002, 0.002, 0.02, 0.2]\n",
    "scores = {}\n",
    "for lr in lr_list:\n",
    "    #print('Training MLP w lr {} ...'.format(lr))\n",
    "    mlp = MLPClassifier(hidden_layer_sizes=grid_search_mlp.best_params_['hidden_layer_sizes'], \n",
    "                    batch_size=grid_search_mlp_.best_params_['batch_size'], \n",
    "                    learning_rate_init=lr, \n",
    "                    max_iter=100, alpha=1e-4, solver='sgd', tol=1e-4, random_state=ID, n_iter_no_change=60)\n",
    "    \n",
    "    mlp.fit(X_train, y_train)\n",
    "    scores[str(lr)]=mlp.score(X_train, y_train) # train or test??\n",
    "    plt.plot(mlp.loss_curve_, label=str(lr))\n",
    "\n",
    "plt.legend(loc='upper right')\n",
    "plt.title(\"Learning curves\")\n",
    "plt.xlabel(\"steps\")\n",
    "plt.ylabel(\"loss\")\n",
    "plt.show()\n",
    "\n",
    "best_score = 0\n",
    "best_lr = \"\"\n",
    "print(\"lr\", \"score\")\n",
    "for lr, score in scores.items():\n",
    "    print(lr, score)\n",
    "    if score >= best_score :\n",
    "        best_score = score\n",
    "        best_lr = lr\n",
    "\n",
    "print ('RESULTS FOR NN\\n')\n",
    "\n",
    "print(\"Best parameters set found:\")\n",
    "print(best_lr)\n",
    "\n",
    "print(\"Score with best parameters:\")\n",
    "print(best_score)\n",
    "\n",
    "\n"
   ]
  },
  {
   "cell_type": "markdown",
   "metadata": {},
   "source": [
    "### QUESTION 3\n",
    "\n",
    "Comment about the learning curves (i.e. the variation of the loss over the steps). How does the curve changes for different learning rates in terms of stability and speed of convergence ?"
   ]
  },
  {
   "cell_type": "markdown",
   "metadata": {},
   "source": [
    "## [ANSWER TO QUESTION 3]\n",
    "With lower learning rates (0.0002) the learning curve is not steep at all, thus the learning process is slow and doesn't reach an accetable loss in 100 iteration. Increasing _lr_ (0.2) we have the opposite case, we are moving by bigger steps, meaning that the learning curve is very steep and the process is able to avoid local minima without too much effort. On the other hand the curve is not smooth, the learning process is effective (it reaches accetable loss before the 100 iterations) but rough (we had to increase the _n_iter_no_change_ parameter to reach it).\n",
    "\n",
    "We obtain a perfect tradeoff between these two opposite cases with _lr = 0.02_, having a smooth and steep learning curve and reaching the best loss."
   ]
  },
  {
   "cell_type": "markdown",
   "metadata": {},
   "source": [
    "### TO DO 5\n",
    "\n",
    "Now get training and test error for a NN with best parameters (architecture, batch size and learning rate) from above. Plot the learning curve also for this case (you can run the training for 500 iterations)."
   ]
  },
  {
   "cell_type": "code",
   "execution_count": 27,
   "metadata": {
    "scrolled": true
   },
   "outputs": [
    {
     "name": "stdout",
     "output_type": "stream",
     "text": [
      "\n",
      "RESULTS FOR BEST NN\n",
      "\n",
      "Best NN training error: 0.000000\n",
      "Best NN test error: 0.238500\n"
     ]
    },
    {
     "data": {
      "image/png": "[encoded data removed]",
      "text/plain": [
       "<Figure size 432x288 with 1 Axes>"
      ]
     },
     "metadata": {
      "needs_background": "light"
     },
     "output_type": "display_data"
    }
   ],
   "source": [
    "#get training and test error for the best NN model from CV\n",
    "\n",
    "mlp = MLPClassifier(hidden_layer_sizes=grid_search_mlp.best_params_['hidden_layer_sizes'], \n",
    "                    batch_size=grid_search_mlp_.best_params_['batch_size'], \n",
    "                    learning_rate_init=float(best_lr), \n",
    "                    max_iter=500, alpha=1e-4, solver='sgd', tol=1e-4, random_state=ID)\n",
    "mlp.fit(X_train, y_train)\n",
    "training_error = 1 - mlp.score(X_train, y_train)\n",
    "test_error      = 1 - mlp.score(X_test, y_test)\n",
    "\n",
    "print ('\\nRESULTS FOR BEST NN\\n')\n",
    "\n",
    "print (\"Best NN training error: %f\" % training_error)\n",
    "print (\"Best NN test error: %f\" % test_error)\n",
    "\n",
    "plt.plot(mlp.loss_curve_, label=str(best_lr))\n",
    "\n",
    "plt.legend(loc='upper right')\n",
    "plt.title(\"Learning curves\")\n",
    "plt.xlabel(\"steps\")\n",
    "plt.ylabel(\"loss\")\n",
    "plt.show()"
   ]
  },
  {
   "cell_type": "markdown",
   "metadata": {},
   "source": [
    "## More data \n",
    "Now let's do the same but using 4000 (or less if it takes too long on your machine) data points for training. Use the same NN architecture as before, but you can try more if you like and have a powerful computer!!"
   ]
  },
  {
   "cell_type": "code",
   "execution_count": 28,
   "metadata": {},
   "outputs": [
    {
     "name": "stdout",
     "output_type": "stream",
     "text": [
      "Labels in training dataset:  [0 1 2 3 4 5 6 7 8 9]\n",
      "Frequencies in training dataset:  [487 496 518 518 468 524 489 527 492 481]\n"
     ]
    }
   ],
   "source": [
    "X = X[permutation]\n",
    "y = y[permutation]\n",
    "\n",
    "m_training = 5000\n",
    "\n",
    "X_train, X_test = X[:m_training], X[m_training:]\n",
    "y_train, y_test = y[:m_training], y[m_training:]\n",
    "\n",
    "labels, freqs = np.unique(y_train, return_counts=True)\n",
    "print(\"Labels in training dataset: \", labels)\n",
    "print(\"Frequencies in training dataset: \", freqs)"
   ]
  },
  {
   "cell_type": "markdown",
   "metadata": {},
   "source": [
    "### TO DO 6\n",
    "\n",
    "Now train the NNs with the added data points using the optimum parameters found above. Eventually, feel free to try different architectures if you like. We suggest that you use 'verbose=True' so have an idea of how long it takes to run 1 iteration (eventually reduce also the number of iterations to 50)."
   ]
  },
  {
   "cell_type": "code",
   "execution_count": 29,
   "metadata": {},
   "outputs": [
    {
     "name": "stdout",
     "output_type": "stream",
     "text": [
      "Iteration 1, loss = 0.96571502\n",
      "Iteration 2, loss = 0.50890089\n",
      "Iteration 3, loss = 0.38772314\n",
      "Iteration 4, loss = 0.29875432\n",
      "Iteration 5, loss = 0.22938044\n",
      "Iteration 6, loss = 0.18285774\n",
      "Iteration 7, loss = 0.14621677\n",
      "Iteration 8, loss = 0.11545208\n",
      "Iteration 9, loss = 0.09157277\n",
      "Iteration 10, loss = 0.07244973\n",
      "Iteration 11, loss = 0.05212144\n",
      "Iteration 12, loss = 0.04152114\n",
      "Iteration 13, loss = 0.03287799\n",
      "Iteration 14, loss = 0.02699123\n",
      "Iteration 15, loss = 0.02196235\n",
      "Iteration 16, loss = 0.01890983\n",
      "Iteration 17, loss = 0.01559938\n",
      "Iteration 18, loss = 0.01371994\n",
      "Iteration 19, loss = 0.01239358\n",
      "Iteration 20, loss = 0.01108508\n",
      "Iteration 21, loss = 0.01000863\n",
      "Iteration 22, loss = 0.00906730\n",
      "Iteration 23, loss = 0.00839157\n",
      "Iteration 24, loss = 0.00796077\n",
      "Iteration 25, loss = 0.00739981\n",
      "Iteration 26, loss = 0.00691632\n",
      "Iteration 27, loss = 0.00659408\n",
      "Iteration 28, loss = 0.00619396\n",
      "Iteration 29, loss = 0.00585610\n",
      "Iteration 30, loss = 0.00559170\n",
      "Iteration 31, loss = 0.00531757\n",
      "Iteration 32, loss = 0.00512838\n",
      "Iteration 33, loss = 0.00488635\n",
      "Iteration 34, loss = 0.00469963\n",
      "Iteration 35, loss = 0.00458272\n",
      "Iteration 36, loss = 0.00438567\n",
      "Iteration 37, loss = 0.00424633\n",
      "Iteration 38, loss = 0.00409820\n",
      "Iteration 39, loss = 0.00397842\n",
      "Iteration 40, loss = 0.00387478\n",
      "Iteration 41, loss = 0.00376348\n",
      "Iteration 42, loss = 0.00363379\n",
      "Iteration 43, loss = 0.00356471\n",
      "Iteration 44, loss = 0.00346610\n",
      "Iteration 45, loss = 0.00336737\n",
      "Iteration 46, loss = 0.00330217\n",
      "Iteration 47, loss = 0.00322119\n",
      "Iteration 48, loss = 0.00315997\n",
      "Iteration 49, loss = 0.00310010\n",
      "Iteration 50, loss = 0.00302727\n",
      "Iteration 51, loss = 0.00298123\n",
      "Iteration 52, loss = 0.00291879\n",
      "Iteration 53, loss = 0.00286627\n",
      "Training loss did not improve more than tol=0.000100 for 10 consecutive epochs. Stopping.\n",
      "\n",
      "RESULTS FOR NN\n",
      "\n",
      "NN training error: 0.000000\n",
      "NN test error: 0.122291\n"
     ]
    }
   ],
   "source": [
    "# use best architecture and params from before\n",
    "\n",
    "best_mlp = MLPClassifier(hidden_layer_sizes=grid_search_mlp.best_params_['hidden_layer_sizes'], \n",
    "                    batch_size=grid_search_mlp_.best_params_['batch_size'], \n",
    "                    learning_rate_init=float(best_lr), \n",
    "                    max_iter=500, alpha=1e-4, solver='sgd', tol=1e-4, random_state=ID, verbose=True)\n",
    "best_mlp.fit(X_train, y_train)\n",
    "\n",
    "print ('\\nRESULTS FOR NN\\n')\n",
    "\n",
    "#get training and test error for the NN\n",
    "\n",
    "training_error = 1 - best_mlp.score(X_train, y_train)\n",
    "test_error      = 1 - best_mlp.score(X_test, y_test)\n",
    "\n",
    "print (\"NN training error: %f\" % training_error)\n",
    "print (\"NN test error: %f\" % test_error)\n"
   ]
  },
  {
   "cell_type": "markdown",
   "metadata": {},
   "source": [
    "## QUESTION 4\n",
    "Compare the train and test error you got with a large number of samples with the best one you obtained with only 600 data points. Comment about the results you obtained."
   ]
  },
  {
   "cell_type": "markdown",
   "metadata": {},
   "source": [
    "#### [ANSWER TO QUESTION 4]\n",
    "Both our training error are null, that's mean that given the sizes we are able to train with good results over the training set. About test errors we have 0.2385 for the model trained with 600 data points, 0.122 with 5000 data points. As expected with more data points we trained a better model, this information wasn't clear from the training error but it's evident from the test (0.2385->0.122 is a huge improvement)."
   ]
  },
  {
   "cell_type": "markdown",
   "metadata": {},
   "source": [
    "### TO DO 7\n",
    "\n",
    "Plot an example that was missclassified by NN with m=600 training data points and it is now instead correctly classified by NN with m=4000 training data points."
   ]
  },
  {
   "cell_type": "code",
   "execution_count": 30,
   "metadata": {},
   "outputs": [
    {
     "data": {
      "image/png": "[encoded data removed]",
      "text/plain": [
       "<Figure size 432x288 with 1 Axes>"
      ]
     },
     "metadata": {
      "needs_background": "light"
     },
     "output_type": "display_data"
    }
   ],
   "source": [
    "NN_prediction = mlp.predict(X_test)\n",
    "large_NN_prediction = best_mlp.predict(X_test)\n",
    "\n",
    "for y_pred, y_large_pred, y_true, x_true in zip(NN_prediction, large_NN_prediction, y_test, X_test):\n",
    "    if (y_pred != y_true) and (y_large_pred == y_true) :\n",
    "        plt.imshow(x_true.reshape(28,28), cmap = plt.cm.gray_r, interpolation = \"nearest\")\n",
    "        plt.show()\n",
    "        break;"
   ]
  },
  {
   "cell_type": "markdown",
   "metadata": {},
   "source": [
    "### TO DO 8\n",
    "\n",
    "Let's plot the weigths of the multi-layer perceptron classifier, for the best NN we get with 600 data points and with 4000 data points. The code is already provided, just fix variable names (e.g., replace mlp , mlp_large with your estimators) in order to have it working with your implementation\n",
    "\n"
   ]
  },
  {
   "cell_type": "code",
   "execution_count": 32,
   "metadata": {},
   "outputs": [
    {
     "name": "stdout",
     "output_type": "stream",
     "text": [
      "Weights with 600 data points:\n"
     ]
    },
    {
     "data": {
      "image/png": "[encoded data removed]",
      "text/plain": [
       "<Figure size 432x288 with 16 Axes>"
      ]
     },
     "metadata": {},
     "output_type": "display_data"
    },
    {
     "name": "stdout",
     "output_type": "stream",
     "text": [
      "Weights with 5000 data points:\n"
     ]
    },
    {
     "data": {
      "image/png": "[encoded data removed]",
      "text/plain": [
       "<Figure size 432x288 with 16 Axes>"
      ]
     },
     "metadata": {},
     "output_type": "display_data"
    }
   ],
   "source": [
    "print(\"Weights with 600 data points:\")\n",
    "\n",
    "fig, axes = plt.subplots(4, 4)\n",
    "vmin, vmax = mlp.coefs_[0].min(), mlp.coefs_[0].max()\n",
    "for coef, ax in zip(mlp.coefs_[0].T, axes.ravel()):\n",
    "    ax.matshow(coef.reshape(28, 28), cmap=plt.cm.gray, vmin=.5 * vmin,\n",
    "               vmax=.5 * vmax)\n",
    "    ax.set_xticks(())\n",
    "    ax.set_yticks(())\n",
    "\n",
    "plt.show()\n",
    "\n",
    "print(\"Weights with 5000 data points:\")\n",
    "\n",
    "fig, axes = plt.subplots(4, 4)\n",
    "vmin, vmax = best_mlp.coefs_[0].min(), best_mlp.coefs_[0].max()\n",
    "for coef, ax in zip(best_mlp.coefs_[0].T, axes.ravel()):\n",
    "    ax.matshow(coef.reshape(28, 28), cmap=plt.cm.gray, vmin=.5 * vmin,\n",
    "               vmax=.5 * vmax)\n",
    "    ax.set_xticks(())\n",
    "    ax.set_yticks(())\n",
    "plt.show()"
   ]
  },
  {
   "cell_type": "markdown",
   "metadata": {},
   "source": [
    "## QUESTION 5\n",
    "\n",
    "Describe what do you observe by looking at the weights."
   ]
  },
  {
   "cell_type": "markdown",
   "metadata": {},
   "source": [
    "##### [ANSWER TO QUESTION 5]\n",
    "With more data points we would expect a smoother picture of the weights matrix. In fact, we are representing the weight matrix between inputs and the first layer, more data point means more different inputs so more variability on the weights and so a smoother picture.\n",
    "That's not so clear from our results, probably the amount of data is not enough to highlight this effect. "
   ]
  },
  {
   "cell_type": "markdown",
   "metadata": {},
   "source": [
    "### TO DO 9\n",
    "\n",
    "Take the best SVM model and its parameters, you found in the last notebook. Fit it on a few data points and compute its training and test scores. Then fit also a logistic regression model with C=1. "
   ]
  },
  {
   "cell_type": "code",
   "execution_count": 33,
   "metadata": {},
   "outputs": [
    {
     "name": "stdout",
     "output_type": "stream",
     "text": [
      "Best SVM training error: 0.000000\n",
      "Best SVM test error: 0.081455\n",
      "RESULTS FOR SVM\n",
      "Training score SVM:\n",
      "1.0\n",
      "Test score SVM:\n",
      "0.9185454545454546\n"
     ]
    }
   ],
   "source": [
    "m_training = 5000\n",
    "\n",
    "X_train, X_test = X[:m_training], X[m_training:]#2*m_training]\n",
    "y_train, y_test = y[:m_training], y[m_training:]#2*m_training]\n",
    "\n",
    "# use best parameters found in the SVM notebook, create SVM and perform fitting\n",
    "best_params = {'C': 10, 'gamma': 0.01}\n",
    "\n",
    "SVM = SVC(kernel='rbf', C=best_params['C'], gamma=best_params['gamma'])\n",
    "SVM.fit(X_train, y_train)\n",
    "\n",
    "training_error = 1-SVM.score(X_train, y_train)\n",
    "test_error     = 1-SVM.score(X_test, y_test)\n",
    "print (\"Best SVM training error: %f\" % training_error)\n",
    "print (\"Best SVM test error: %f\" % test_error)\n",
    "\n",
    "print ('RESULTS FOR SVM')\n",
    "\n",
    "SVM_training_score =  1-training_error\n",
    "print(\"Training score SVM:\")\n",
    "print(SVM_training_score)\n",
    "\n",
    "SVM_test_score = 1-test_error\n",
    "print(\"Test score SVM:\")\n",
    "print(SVM_test_score)"
   ]
  },
  {
   "cell_type": "code",
   "execution_count": 34,
   "metadata": {},
   "outputs": [
    {
     "name": "stdout",
     "output_type": "stream",
     "text": [
      "\n",
      "RESULTS FOR LOGISTIC REGRESSION WITH REGULARIZATION\n",
      "Training error (reg): 0.029000\n",
      "Test error (reg): 0.244909\n"
     ]
    }
   ],
   "source": [
    "from sklearn import linear_model\n",
    "\n",
    "# regL2 = #ADD YOUR CODE\n",
    "\n",
    "# you can re-use your code from Lab 2\n",
    "\n",
    "logistic_reg = linear_model.LogisticRegression(max_iter=1000).fit(X_train, y_train)\n",
    "training_error = 1-logistic_reg.score(X_train, y_train)\n",
    "test_error     = 1-logistic_reg.score(X_test, y_test)\n",
    "\n",
    "print ('\\nRESULTS FOR LOGISTIC REGRESSION WITH REGULARIZATION')\n",
    "print (\"Training error (reg): %f\" % training_error)\n",
    "print (\"Test error (reg): %f\" % test_error)"
   ]
  },
  {
   "cell_type": "markdown",
   "metadata": {},
   "source": [
    "## QUESTION 6\n",
    "Compare the results of Logistic Regression, SVM and NN. Which one achieve the best results? "
   ]
  },
  {
   "cell_type": "markdown",
   "metadata": {},
   "source": [
    "## [ANSWER TO QUESTION 6]\n",
    "\n",
    "|                | NN   | SVM  | LR   |\n",
    "|:--------------:|------|------|------|\n",
    "| training error | 0.00 | 0.00 | 0.03 |\n",
    "|   test error   | 0.12 | 0.08 | 0.24 |\n",
    "\n",
    "Best results are achieved by the SVM model, LR performs worse than the others besided NN and SVM results are very similiar. We can compare these results as we have used training and testing data samples of the same sizes. It is true that in this case SVM performs better but, overall, we have also to consider the computation time that for the case of SVM is lot longer than NN.\n"
   ]
  },
  {
   "cell_type": "code",
   "execution_count": null,
   "metadata": {},
   "outputs": [],
   "source": []
  }
 ],
 "metadata": {
  "kernelspec": {
   "display_name": "Python 3",
   "language": "python",
   "name": "python3"
  },
  "language_info": {
   "codemirror_mode": {
    "name": "ipython",
    "version": 3
   },
   "file_extension": ".py",
   "mimetype": "text/x-python",
   "name": "python",
   "nbconvert_exporter": "python",
   "pygments_lexer": "ipython3",
   "version": "3.9.5"
  }
 },
 "nbformat": 4,
 "nbformat_minor": 4
}
